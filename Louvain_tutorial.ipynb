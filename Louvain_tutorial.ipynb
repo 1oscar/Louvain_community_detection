{
 "cells": [
  {
   "cell_type": "markdown",
   "metadata": {
    "collapsed": true
   },
   "source": [
    "# The Louvain algorithm for network community detection\n",
    "\n",
    "Here I present a complete description of modularity and the Louvain algorithm for finding a graph partition (coloring) that is locally optimal. The code for this "
   ]
  },
  {
   "cell_type": "markdown",
   "metadata": {},
   "source": [
    "## Data\n",
    "The algorithm works on any weighted-nondirected network. This data could come in the form of a graphml, csv, spreadsheet etc. Whatever the format is, there is a specific format that we need to convert it to so that the following codes know what to do with it. The format we use here is a python dictionary in which the keys are the edges and the values are the weights of those edges. For example, \n"
   ]
  },
  {
   "cell_type": "code",
   "execution_count": 246,
   "metadata": {
    "collapsed": true
   },
   "outputs": [],
   "source": [
    "graph={('a','b'):1,('a','c'):2,('b','c'):2,('c','d'):1,('d','e'):4,('e','g'):1,('f','g'):4,('f','d'):1,('f','f'):1}"
   ]
  },
  {
   "cell_type": "markdown",
   "metadata": {
    "collapsed": true
   },
   "source": [
    "describes a network of the type we want to work with. Lets take a look at what this network looks like;"
   ]
  },
  {
   "cell_type": "code",
   "execution_count": 247,
   "metadata": {},
   "outputs": [
    {
     "data": {
      "image/png": "[encoded data removed]",
      "text/plain": [
       "<matplotlib.figure.Figure at 0x2ab45aa7550>"
      ]
     },
     "metadata": {},
     "output_type": "display_data"
    }
   ],
   "source": [
    "import networkx as nx\n",
    "import matplotlib.pyplot as plt\n",
    "\n",
    "plt.figure()\n",
    "G=nx.Graph()\n",
    "for edge in graph:\n",
    "    G.add_edge(edge[0],edge[1],weight=graph[edge])\n",
    "    \n",
    "pos=nx.spring_layout(G)\n",
    "nx.draw_networkx_nodes(G,pos)\n",
    "nx.draw_networkx_edges(G,pos)\n",
    "plt.show()"
   ]
  },
  {
   "cell_type": "markdown",
   "metadata": {},
   "source": [
    "## Calculating modularity\n",
    "The Louvain algorithm maximizes a property known as modularity. If each node has a color then the modularity measures the relative likelihood that edges in the network will connect nodes of the same color. For example we can asign the following colors:"
   ]
  },
  {
   "cell_type": "code",
   "execution_count": 248,
   "metadata": {
    "collapsed": true
   },
   "outputs": [],
   "source": [
    "color= {'a': 'c0', 'b':'c1', 'c':'c2', 'd':'c1', 'e':'c1', 'f':'c0','g':'c2'} "
   ]
  },
  {
   "cell_type": "markdown",
   "metadata": {},
   "source": [
    "to get"
   ]
  },
  {
   "cell_type": "code",
   "execution_count": 249,
   "metadata": {},
   "outputs": [
    {
     "data": {
      "image/png": "[encoded data removed]",
      "text/plain": [
       "<matplotlib.figure.Figure at 0x2ab45bd4b00>"
      ]
     },
     "metadata": {},
     "output_type": "display_data"
    }
   ],
   "source": [
    "plt.figure()\n",
    "\n",
    "color_list=['r','b','g','c','m','orange','yellow','k','pink']\n",
    "n=0\n",
    "for c in set(color.values()):\n",
    "    nodes=[node for node in color if color[node]==c]\n",
    "    nx.draw_networkx_nodes(G,pos,nodelist=nodes, node_color=color_list[n],alpha=0.8)\n",
    "    n=n+1\n",
    "    nx.draw_networkx_edges(G,pos)\n",
    "plt.show()"
   ]
  },
  {
   "cell_type": "markdown",
   "metadata": {},
   "source": [
    "Modularity was priginally defined in Newman's 2004 paper to be\n",
    "\\begin{equation}\n",
    "Q=\\sum_{c}\\left(e_{cc}-a_{c}^{2}\\right)\n",
    "\\end{equation}\n",
    "where $e_{cc}$ denotes the fraction of the total weight of edges that both begin and end at nodes of color $c$, and $a_{c}$ is the fraction of weight the total weight of edges that end (or begin) at nodes of color $c$. \n",
    "\n",
    "### A note of the definition of modularity\n",
    "The Louvain paper refers to \n",
    "The definition given in the louvain paper is expressed differently as\n",
    "\\begin{equation}\n",
    "Q=\\frac{1}{S}\\sum_{i,j}\\left[w_{ij}-\\frac{s_{i}s_{j}}{S}\\right]\\delta(c_{i},c_{j})\n",
    "\\end{equation}\n",
    "where $w_{ij}$ is the weight of the edge between $i$ and $j$, $s_{i}=\\sum_{j}w_{ij}$, and $S=\\sum_{i}s_{i}$. The $\\delta$ used here is the Kronecker delta  function; $\\delta(x,y)=1$ if $x=y$, and 0 otherwise. The notation $\\sum_{ij}$ means the sum over all elements in a matrix, in this case it is the matrix whose $i,j$th element is $w_{ij}-s_{i}s_{j}/S$. Note that this is not the same as the sum over all pairs of nodes since it counts each pair of nodes twice (with the exception of pairs that consist of the same node twice). \n",
    "\n",
    "Here I will explain why these two definitions are not the same. First, if $G$ is a graph and $G_{c}$ is the subgraph of nodes of color $c$ then \n",
    " $e_{cc}$ is defined as\n",
    "\\begin{equation}\n",
    "e_{cc}=\\frac{1}{W}\\sum_{(i,j)\\in G_{c}}w_{ij}\n",
    "\\end{equation}\n",
    "where $W$ is the total weight of the graph, and  \n",
    "\\begin{equation}\n",
    "W=\\sum_{(i,j)\\in G}w_{ij}=\\frac{1}{2}\\left[S+\\sum_{i}w_{ii}\\right].\n",
    "\\end{equation}\n",
    "To make it look more like the first term in the Louvain equation we note that \n",
    "\\begin{equation}\n",
    "\\sum_{(i,j)\\in G_{c}}w_{ij}=\\frac{1}{2}\\left[\\sum_{i,j}w_{ij}+\\sum_{i}w_{ii}\\right]\\delta(c,c_{i})\\delta(c,c_{j})\n",
    "\\end{equation}\n",
    "so \n",
    "\\begin{equation}\n",
    "e_{cc}=\\frac{1}{2W}\\left[\\sum_{i,j}w_{ij}+\\sum_{i}w_{ii}\\right]\\delta(c,c_{i})\\delta(c,c_{j}).\n",
    "\\end{equation}\n",
    "\n",
    "Next, the Newman paper defines $a_{c}$ as fraction of the weight of edges that connect to nodes of color $c$. It then goes on to say that in a randomly colored graph the expectation is $e_{c1c2}=a_{c1}a_{c2}$ but this is incorrect. Consider the following graph:\n",
    "\n",
    "\n",
    "\n",
    "\n",
    "\n",
    "\n",
    "\n"
   ]
  },
  {
   "cell_type": "code",
   "execution_count": 250,
   "metadata": {},
   "outputs": [
    {
     "data": {
      "image/png": "[encoded data removed]",
      "text/plain": [
       "<matplotlib.figure.Figure at 0x2ab45bf1208>"
      ]
     },
     "metadata": {},
     "output_type": "display_data"
    }
   ],
   "source": [
    "plt.figure()\n",
    "graph2={('a','b'):1,('b','c'):1,('c','d'):1,('d','a'):1}\n",
    "G2=nx.Graph()\n",
    "for edge in graph2:\n",
    "    G2.add_edge(edge[0],edge[1],weight=graph2[edge])\n",
    "pos2=nx.spring_layout(G2)\n",
    "color2={'a': 'c0', 'b':'c0', 'c':'c1', 'd':'c1'} \n",
    "n=0\n",
    "for c in set(color2.values()):\n",
    "    nodes2=[node for node in color2 if color2[node]==c]\n",
    "    nx.draw_networkx_nodes(G2,pos2,nodelist=nodes2, node_color=color_list[n],alpha=0.8)\n",
    "    n=n+1\n",
    "    nx.draw_networkx_edges(G2,pos2)\n",
    "plt.show()"
   ]
  },
  {
   "cell_type": "markdown",
   "metadata": {},
   "source": [
    "Here $a_{red}=3/4$ and $a_{blue}=3/4$ which means the null expectation for the fraction of weight between red and red is $9/16$, the same for edges between blue and blue, and the same for edges between red and blue. Adding these together we ought to get $1$ but instead we get $27/16$. A better definition (that appears to have been used in the  Louvain definition of modularity) is that $a_{c}$ is the fraction of ends of edges that are attached to nodes of color $c$,\n",
    "\\begin{equation}\n",
    "a_{c}=\\frac{1}{S}\\sum_{i\\in G_{c}}s_{i}.\n",
    "\\end{equation}\n",
    "Now the expectation for the weight of edges between red and red is $(1/2)\\times(1/2)$ and its the same for blue and blue. For edges that go from one color to the other, the expectation is $2\\times(1/2)\\times(1/2)$ since there are effectively two ways that the edge can be placed, either the red stub could be selected then the blue one, or the blue one is selected first then the red. From this definition the sum of these expected fractions is $1$, as it should be.\n",
    "\n",
    "For Newman's formula we need to know $a_{c}^{2}$. Noting that\n",
    "\\begin{equation}\n",
    "\\begin{split}\n",
    "a_{c}^{2}&=\\frac{1}{S^{2}}\\left[\\sum_{i\\in G_{c}}s_{i}\\right]^{2}\\\\\n",
    "&=\\frac{1}{S^{2}}\\sum_{i,j}s_{i}s_{j}\\delta(c,c_{i})\\delta(c,c_{j})\n",
    "\\end{split}\n",
    "\\end{equation}\n",
    "we have \n",
    "\\begin{equation}\n",
    "Q=\\sum_{c}\\left[\\sum_{i,j}w_{ij}+\\sum_{i}w_{ii}\\right]\\delta(c,c_{i})\\delta(c,c_{j})-\\sum_{i,j}s_{i}s_{j}\\delta(c,c_{i})\\delta(c,c_{j})\n",
    "\\end{equation}\n",
    "which can be rewritten\n",
    "\\begin{equation}\n",
    "Q=\\sum_{i,j}\\left[\\frac{w_{ij}}{2W}-\\frac{s_{i}s_{j}}{S^{2}}\\right]\\delta(c_{i},c_{j})+\\sum_{i}\\frac{w_{ii}}{2W}.\n",
    "\\end{equation}\n",
    "Comparing this to the definition given in the Louvain paper we see two differences: an extra term that depends on the weight of the self-loops, and that the two terms within the sum have different denominators. If the network contains no self-loops then $S=2W$ and the two definitions become equivalent to each other. In other words, Newman's definition of modularity and the version used in the Louvain paper are only the same if there are no self-loops.\n",
    "\n",
    "To make the calculation of modularity as fast as possible we can reduce the number of operations by summing over each distinct pair of nodes in the network rather than summing over every matrix element. First lets get a list of the nodes,"
   ]
  },
  {
   "cell_type": "code",
   "execution_count": 251,
   "metadata": {},
   "outputs": [
    {
     "name": "stdout",
     "output_type": "stream",
     "text": [
      "nodes: ['a', 'b', 'c', 'd', 'e', 'f', 'g']\n"
     ]
    }
   ],
   "source": [
    "nodes=sorted(list(set([edge[0] for edge in graph]+[edge[1] for edge in graph])))\n",
    "N=len(nodes)\n",
    "print('nodes:',nodes)"
   ]
  },
  {
   "cell_type": "markdown",
   "metadata": {},
   "source": [
    "Now we need to know the weight of edges between each distinct pair:"
   ]
  },
  {
   "cell_type": "code",
   "execution_count": 252,
   "metadata": {},
   "outputs": [
    {
     "name": "stdout",
     "output_type": "stream",
     "text": [
      "{('a', 'a'): 0, ('a', 'b'): 1, ('a', 'c'): 2, ('a', 'd'): 0, ('a', 'e'): 0, ('a', 'f'): 0, ('a', 'g'): 0, ('b', 'b'): 0, ('b', 'c'): 2, ('b', 'd'): 0, ('b', 'e'): 0, ('b', 'f'): 0, ('b', 'g'): 0, ('c', 'c'): 0, ('c', 'd'): 1, ('c', 'e'): 0, ('c', 'f'): 0, ('c', 'g'): 0, ('d', 'd'): 0, ('d', 'e'): 4, ('d', 'f'): 1, ('d', 'g'): 0, ('e', 'e'): 0, ('e', 'f'): 0, ('e', 'g'): 1, ('f', 'f'): 1, ('f', 'g'): 4, ('g', 'g'): 0}\n"
     ]
    }
   ],
   "source": [
    "Weight={}\n",
    "for i in nodes:\n",
    "    for j in nodes:\n",
    "        edge=tuple(sorted([i,j]))\n",
    "        if (i,j) in graph:\n",
    "            Weight[edge]=graph[(i,j)]\n",
    "        elif (j,i) in graph:\n",
    "            Weight[edge]=graph[(j,i)]\n",
    "        else:\n",
    "            Weight[edge]=0\n",
    "print(Weight)"
   ]
  },
  {
   "cell_type": "markdown",
   "metadata": {},
   "source": [
    "Notice that when we read the edge from the network we sort it. This prevents the same edge form appearing twice in the dictionary.\n",
    "\n",
    "The sum over matrix elements ($\\sum_{i,j}$) relates to the sum over distinct pairs of nodes ($\\sum_{(i,j)}$) in the following way:\n",
    "\\begin{equation}\n",
    "\\sum_{(i,j)}w_{ij}=\\frac{1}{2}\\left[\\sum_{i,j}w_{ij}+\\sum_{i}w_{ii}\\right].\n",
    "\\end{equation}\n",
    "and so the modularity equation can be expressed as \n",
    "\\begin{equation}\n",
    "Q=\\sum_{i}\\left(\\frac{s_{i}}{S}\\right)^{2}+\\sum_{(i,j)}\\left[\\frac{w_{ij}}{W}-\\frac{2s_{i}s_{j}}{S^{2}}\\right]\\delta(c_{i},c_{j}).\n",
    "\\end{equation}\n",
    "\n",
    "### Computing modularity\n",
    "\n",
    "The formula above turns out to be quite easy to write as code. First, we will want to know the strength of every node ($s_{i}$ for all nodes $i$)."
   ]
  },
  {
   "cell_type": "code",
   "execution_count": 253,
   "metadata": {},
   "outputs": [
    {
     "name": "stdout",
     "output_type": "stream",
     "text": [
      "strength: {'a': 3, 'b': 3, 'c': 5, 'd': 6, 'e': 5, 'f': 6, 'g': 5}\n"
     ]
    }
   ],
   "source": [
    "strength={}\n",
    "for i in nodes:\n",
    "    strength[i]=sum([graph[edge] for edge in graph if edge[0]==i or edge[1]==i])\n",
    "print('strength:',strength)"
   ]
  },
  {
   "cell_type": "markdown",
   "metadata": {},
   "source": [
    "and the total strength (S)"
   ]
  },
  {
   "cell_type": "code",
   "execution_count": 254,
   "metadata": {},
   "outputs": [
    {
     "name": "stdout",
     "output_type": "stream",
     "text": [
      "total strength: 33\n"
     ]
    }
   ],
   "source": [
    "total_strength=sum([strength[i] for i in nodes])\n",
    "print('total strength:',total_strength)"
   ]
  },
  {
   "cell_type": "markdown",
   "metadata": {},
   "source": [
    "and the total weight (W)"
   ]
  },
  {
   "cell_type": "code",
   "execution_count": 255,
   "metadata": {},
   "outputs": [
    {
     "name": "stdout",
     "output_type": "stream",
     "text": [
      "total weightt: 17\n"
     ]
    }
   ],
   "source": [
    "total_weight=sum([graph[edge] for edge in graph])\n",
    "print('total weightt:',total_weight)"
   ]
  },
  {
   "cell_type": "markdown",
   "metadata": {},
   "source": [
    "Now we can put it all together to find the modularity"
   ]
  },
  {
   "cell_type": "code",
   "execution_count": 256,
   "metadata": {},
   "outputs": [
    {
     "name": "stdout",
     "output_type": "stream",
     "text": [
      "Modularity of this coloring = -0.05207151731215902\n"
     ]
    }
   ],
   "source": [
    "Q=sum([(strength[i]/total_strength)**2 for i in nodes])\n",
    "for edge in Weight:\n",
    "    i=edge[0]\n",
    "    j=edge[1]\n",
    "    if color[i]==color[j]: \n",
    "        Q=Q+Weight[edge]/(total_weight)-2*strength[i]*strength[j]/(total_strength**2)\n",
    "\n",
    "print('Modularity of this coloring =',Q)"
   ]
  },
  {
   "cell_type": "markdown",
   "metadata": {},
   "source": [
    "This code is included in the Louvain module and can be accessed as follows:"
   ]
  },
  {
   "cell_type": "code",
   "execution_count": 257,
   "metadata": {},
   "outputs": [
    {
     "name": "stdout",
     "output_type": "stream",
     "text": [
      "Q = -0.05207151731215902\n"
     ]
    }
   ],
   "source": [
    "import Louvain\n",
    "print('Q =',Louvain.modularity(Weight,color))"
   ]
  },
  {
   "cell_type": "markdown",
   "metadata": {},
   "source": [
    "For comparison, I also copied the code from the python community library. "
   ]
  },
  {
   "cell_type": "code",
   "execution_count": 258,
   "metadata": {},
   "outputs": [
    {
     "name": "stdout",
     "output_type": "stream",
     "text": [
      "links 17.0\n",
      "Q = -0.04844290657439447\n"
     ]
    }
   ],
   "source": [
    "print('Q =',Louvain.net_x_modularity(color,G))"
   ]
  },
  {
   "cell_type": "markdown",
   "metadata": {},
   "source": [
    "The small difference in the result is because of the existence of self-loop in the graph; in $\\verb|net_x_modularity|$, self-loops are considered to attach to the same node twice the weight of a self-loop is counted twice when calculating the strength of a node (which I believe is incorrect). Additionally, the denominator for the second term is $2W$ when it should be $S$. "
   ]
  },
  {
   "cell_type": "markdown",
   "metadata": {},
   "source": [
    "## Finding an optimal coloring\n",
    "\n",
    "This is where the Louvain algorithm begins. Actually, to make things easier later on we first want to create an adjacency list for every node. We start with an empty dictionary and add each node as a neighbor of itself"
   ]
  },
  {
   "cell_type": "code",
   "execution_count": 259,
   "metadata": {},
   "outputs": [
    {
     "name": "stdout",
     "output_type": "stream",
     "text": [
      "{'a': ['c', 'b'], 'b': ['c', 'a'], 'c': ['d', 'b', 'a'], 'd': ['f', 'c', 'e'], 'e': ['g', 'd'], 'f': ['f', 'g', 'd'], 'g': ['f', 'e']}\n"
     ]
    }
   ],
   "source": [
    "neighbors={}\n",
    "for i in nodes:\n",
    "    neighbors[i]=list(set([edge[0] for edge in graph if edge[1]==i]+[edge[1] for edge in graph if edge[0]==i]))  \n",
    "\n",
    "print(neighbors)"
   ]
  },
  {
   "cell_type": "markdown",
   "metadata": {},
   "source": [
    "The procedure starts by asigning a unique color to every node. We are going to keep track of the node colors using a dictionary"
   ]
  },
  {
   "cell_type": "code",
   "execution_count": 260,
   "metadata": {},
   "outputs": [
    {
     "name": "stdout",
     "output_type": "stream",
     "text": [
      "{'a': 'c0', 'b': 'c1', 'c': 'c2', 'd': 'c3', 'e': 'c4', 'f': 'c5', 'g': 'c6'}\n"
     ]
    }
   ],
   "source": [
    "# color tells us the color of each node\n",
    "color={}\n",
    "for n in range(N):\n",
    "    i=nodes[n]\n",
    "    # this will be the label for the color\n",
    "    c='c'+str(n)\n",
    "    color[i]=c \n",
    "print(color)"
   ]
  },
  {
   "cell_type": "markdown",
   "metadata": {},
   "source": [
    "The first part of the procedure is to compute the change in modularity that occurs when the color of a node changes. For a node, $i$ that changes color from $c1$ to $c2$ the magnitude of this change is \n",
    "\\begin{equation}\n",
    "\\Delta Q=\\frac{w_{i,c2}}{W}-\\frac{2s_{i}(s_{i}+w_{c2})}{S^{2}}-\\frac{w_{i,c1}}{W}+\\frac{2s_{i}w_{c1}}{S^{2}}\n",
    "\\end{equation}\n",
    "\n",
    "Where $w_{i,c}$ denotes the weight of edges adjacent to $i$ that link to nodes of color $c$, initially this is "
   ]
  },
  {
   "cell_type": "code",
   "execution_count": 261,
   "metadata": {
    "collapsed": true
   },
   "outputs": [],
   "source": [
    "weight_in_color={}  \n",
    "for j in nodes:\n",
    "    for i in nodes:\n",
    "        if i in neighbors[j]:\n",
    "            weight_in_color[(i,color[j])]=Weight[tuple(sorted((i,j)))]\n",
    "        else:\n",
    "            weight_in_color[(i,color[j])]=0"
   ]
  },
  {
   "cell_type": "markdown",
   "metadata": {},
   "source": [
    "and we need to know $w_{c}$ the total weight of edges of edges attached to nodes of color $c$"
   ]
  },
  {
   "cell_type": "code",
   "execution_count": 262,
   "metadata": {
    "collapsed": true
   },
   "outputs": [],
   "source": [
    "total_weight_of_color={}\n",
    "for c in set(color.values()):\n",
    "    total_weight_of_color[c]=sum([strength[i] for i in nodes if color[i]==c])"
   ]
  },
  {
   "cell_type": "markdown",
   "metadata": {},
   "source": [
    "When each node is considered, the source is the color that it currently is and the target is the color that it may change to. T1 - T4 are the four terms in the equation for $\\Delta Q$."
   ]
  },
  {
   "cell_type": "code",
   "execution_count": 263,
   "metadata": {
    "collapsed": true
   },
   "outputs": [],
   "source": [
    "i='a'\n",
    "source='c0'\n",
    "target='c2'\n",
    "\n",
    "T1 =(weight_in_color[(i,target)]+Weight[(i,i)])/total_weight\n",
    "\n",
    "T2 =2*strength[i]*(strength[i]+total_weight_of_color[target])/(total_strength**2)\n",
    " \n",
    "T3=weight_in_color[(i,source)]/total_weight\n",
    "\n",
    "T4=2*strength[i]*total_weight_of_color[source]/total_strength**2\n",
    "    \n",
    "# compute the total change if ID moved from source community to target community\n",
    "delta_Q=T1-T2-T3+T4"
   ]
  },
  {
   "cell_type": "markdown",
   "metadata": {},
   "source": [
    "Just to prove that the formula is correct we can calculate the modularity befor and after making the change"
   ]
  },
  {
   "cell_type": "code",
   "execution_count": 264,
   "metadata": {},
   "outputs": [
    {
     "name": "stdout",
     "output_type": "stream",
     "text": [
      "0.09009884945713824\n",
      "0.09009884945713822\n"
     ]
    }
   ],
   "source": [
    "Q_before=Louvain.modularity(Weight,color)\n",
    "# make the change\n",
    "color[i]=target\n",
    "Q_after=Louvain.modularity(Weight,color)\n",
    "print(Q_after-Q_before)\n",
    "print(delta_Q)\n",
    "\n",
    "# now reset it to how it was before so we don't mess things up!\n",
    "color[i]=source"
   ]
  },
  {
   "cell_type": "markdown",
   "metadata": {},
   "source": [
    "Now we have finally reached the fun part! The following is a loop that sequentially chooses nodes. It calculates, for every color, the change in Q that would occur if the node changed to that color, if the biggest change it finds is positive (and not tiny) then it makes that change."
   ]
  },
  {
   "cell_type": "code",
   "execution_count": 265,
   "metadata": {},
   "outputs": [
    {
     "name": "stdout",
     "output_type": "stream",
     "text": [
      "{'a': 'c2', 'b': 'c2', 'c': 'c2', 'd': 'c4', 'e': 'c4', 'f': 'c6', 'g': 'c6'}\n"
     ]
    }
   ],
   "source": [
    "# if no improvements occur in N iterations then this number reaches N and the loop ends\n",
    "unsuccessful_iterations=0\n",
    "# n is the index of the node we want to check\n",
    "n=0\n",
    "# the loop terminates when we iterate through every node and find that none of them yield an improvement\n",
    "while unsuccessful_iterations<N:\n",
    "    i=nodes[n]\n",
    "    n=(n+1) % N\n",
    "    # source is the community ID is currently in\n",
    "    source=color[i]\n",
    "    # compute the weight of edges between ID and nodes in source community (including itself)\n",
    "    T3=weight_in_color[(i,source)]/total_weight   \n",
    "    # compute the expectation \n",
    "    T4=2*strength[i]*total_weight_of_color[source]/total_strength**2\n",
    "\n",
    "    best_delta=0\n",
    "    # instead of choosing all possible target colors, rule out the ones ID has no connection to\n",
    "    for target in [x for x in set(color.values()) if x!=source and weight_in_color[(i,x)]>0]:         \n",
    "        # compute the weight of edges between ID and nodes in target community (including itself)           \n",
    "        T1 =(weight_in_color[(i,target)]+Weight[(i,i)])/total_weight\n",
    "        # compute the expectation\n",
    "        T2 =2*strength[i]*(strength[i]+total_weight_of_color[target])/(total_strength**2)\n",
    "        # compute the total change if ID moved from source community to target community\n",
    "        delta_Q=T1-T2-T3+T4\n",
    "\n",
    "        # keep track of the largest\n",
    "        if delta_Q>best_delta:    \n",
    "            best_delta=delta_Q\n",
    "            best_target=target\n",
    "\n",
    "    if best_delta>0.00000001:\n",
    "        #print(modularity(graph,color)+best_delta)\n",
    "        color[i]=best_target\n",
    "        #print(modularity(graph,color))\n",
    "        #print()\n",
    "        # update the total_similarity of source\n",
    "        total_weight_of_color[source]=total_weight_of_color[source]-strength[i]\n",
    "        # update the total_similarity of target\n",
    "        total_weight_of_color[best_target]=total_weight_of_color[best_target]+strength[i]\n",
    "        # update similarity to the source/target community of every node\n",
    "        for j in neighbors[i]:\n",
    "            weight_in_color[(j,source)]=weight_in_color[(j,source)]-Weight[tuple(sorted((i,j)))]\n",
    "            weight_in_color[(j,best_target)]=weight_in_color[(j,best_target)]+Weight[tuple(sorted((i,j)))]\n",
    "\n",
    "        # best delta is large so the iteration was successful. Reset the counter\n",
    "        unsuccessful_iterations=0\n",
    "    else:\n",
    "        # if no improvements occur in N iterations then this number reaches N and the loop ends\n",
    "        unsuccessful_iterations=unsuccessful_iterations+1    \n",
    "        \n",
    "print(color)"
   ]
  },
  {
   "cell_type": "markdown",
   "metadata": {},
   "source": [
    "Lets plot the result to see if it worked!"
   ]
  },
  {
   "cell_type": "code",
   "execution_count": 266,
   "metadata": {},
   "outputs": [
    {
     "data": {
      "image/png": "[encoded data removed]",
      "text/plain": [
       "<matplotlib.figure.Figure at 0x2ab45d3b1d0>"
      ]
     },
     "metadata": {},
     "output_type": "display_data"
    }
   ],
   "source": [
    "plt.figure()\n",
    "n=0\n",
    "for c in set(color.values()):\n",
    "    node_group=[node for node in color if color[node]==c]\n",
    "    nx.draw_networkx_nodes(G,pos,nodelist=node_group, node_color=color_list[n])\n",
    "    n=n+1\n",
    "    nx.draw_networkx_edges(G,pos)\n",
    "plt.show()"
   ]
  },
  {
   "cell_type": "markdown",
   "metadata": {},
   "source": [
    "Recomputing the modularity we have "
   ]
  },
  {
   "cell_type": "code",
   "execution_count": 267,
   "metadata": {},
   "outputs": [
    {
     "name": "stdout",
     "output_type": "stream",
     "text": [
      "Q = 0.4901960784313726\n"
     ]
    }
   ],
   "source": [
    "print('Q =',Louvain.modularity(Weight,color))"
   ]
  },
  {
   "cell_type": "markdown",
   "metadata": {},
   "source": [
    "So that seems to have worked, however, there may still be room for improvement. The next stage of the algorithm looks to see if an improvement can be made by merging any pair of communities. \n",
    "\n",
    "## Merging communities\n",
    "We make a new network with each color as a community "
   ]
  },
  {
   "cell_type": "code",
   "execution_count": 268,
   "metadata": {},
   "outputs": [
    {
     "name": "stdout",
     "output_type": "stream",
     "text": [
      "color: {'a': 'c2', 'b': 'c2', 'c': 'c2', 'd': 'c4', 'e': 'c4', 'f': 'c6', 'g': 'c6'}\n",
      "new weight {('c2', 'c2'): 5, ('c2', 'c6'): 0, ('c2', 'c4'): 1, ('c6', 'c6'): 5, ('c4', 'c6'): 2, ('c4', 'c4'): 4}\n"
     ]
    }
   ],
   "source": [
    "# start by creating a Weight dictionary where all the pairs have weight 0\n",
    "new_weight={}\n",
    "\n",
    "for c_i in set(color.values()):\n",
    "    for c_j in set(color.values()):\n",
    "        new_edge=tuple(sorted((c_i,c_j)))\n",
    "        if new_edge not in new_weight:\n",
    "            new_weight[new_edge]=0\n",
    "# for each of the old edges, add its weight to the weight of the appropriate new edge\n",
    "for edge in Weight:\n",
    "    # new-edge is the edge between two colors \n",
    "    new_edge=tuple(sorted((color[edge[0]],color[edge[1]])))\n",
    "    # once we know which new edge to add to, we can add it\n",
    "    new_weight[new_edge]=new_weight[new_edge]+Weight[edge]\n",
    "\n",
    "print('color:',color)\n",
    "print('new weight',new_weight)"
   ]
  },
  {
   "cell_type": "markdown",
   "metadata": {},
   "source": [
    "Everything we have done up to here is combined into one function in the Louvain module. The function $\\verb|modulize|$ takes the dictionary Weight as input and gives a new graph as output. There next stage of the algorithm simply involves putting the the new network through the $\\verb|modulize|$ process repeatedly until no more changes occur."
   ]
  },
  {
   "cell_type": "code",
   "execution_count": 269,
   "metadata": {},
   "outputs": [
    {
     "name": "stdout",
     "output_type": "stream",
     "text": [
      "color: {'c2': 'c0', 'c4': 'c1', 'c6': 'c2'}\n"
     ]
    }
   ],
   "source": [
    "new_weight,new_color=Louvain.modulize(new_weight)\n",
    "\n",
    "print('color:',new_color)"
   ]
  },
  {
   "cell_type": "markdown",
   "metadata": {},
   "source": [
    "Since the new color dictionary only tells us how the old colors have changed, the color of the nodes is now the color of the color it became during the first iteration. To get a dictionary that maps the actual node to its new color we do"
   ]
  },
  {
   "cell_type": "code",
   "execution_count": 270,
   "metadata": {},
   "outputs": [
    {
     "name": "stdout",
     "output_type": "stream",
     "text": [
      "Final color {'a': 'c0', 'b': 'c0', 'c': 'c0', 'd': 'c1', 'e': 'c1', 'f': 'c2', 'g': 'c2'}\n"
     ]
    }
   ],
   "source": [
    "final_color={}\n",
    "for i in nodes:\n",
    "    final_color[i]=new_color[color[i]]  \n",
    "print('Final color',final_color)"
   ]
  },
  {
   "cell_type": "markdown",
   "metadata": {},
   "source": [
    "Lets take a look, "
   ]
  },
  {
   "cell_type": "code",
   "execution_count": 271,
   "metadata": {},
   "outputs": [
    {
     "data": {
      "image/png": "[encoded data removed]",
      "text/plain": [
       "<matplotlib.figure.Figure at 0x2ab45d94320>"
      ]
     },
     "metadata": {},
     "output_type": "display_data"
    }
   ],
   "source": [
    "plt.figure()\n",
    "n=0\n",
    "for c in set(color.values()):\n",
    "    node_group=[node for node in color if color[node]==c]\n",
    "    nx.draw_networkx_nodes(G,pos,nodelist=node_group, node_color=color_list[n])\n",
    "    n=n+1\n",
    "    nx.draw_networkx_edges(G,pos)\n",
    "plt.show()"
   ]
  },
  {
   "cell_type": "markdown",
   "metadata": {},
   "source": [
    "The only thing that has changed is the names of the colors; that means we have reached a local optimum!\n",
    "\n",
    "We can automate this process in a 'while' loop that stops when there is no change between two iterations. Note that each time we iterate we need to keep track of the colors of each node. The following code performs this on our original graph (named 'graph') and outputs the final coloring:"
   ]
  },
  {
   "cell_type": "code",
   "execution_count": 240,
   "metadata": {},
   "outputs": [
    {
     "name": "stdout",
     "output_type": "stream",
     "text": [
      "{'a': 'c0', 'b': 'c0', 'c': 'c0', 'd': 'c1', 'e': 'c1', 'f': 'c2', 'g': 'c2'}\n"
     ]
    }
   ],
   "source": [
    "end_loop=False\n",
    "number_of_modules=len(nodes)\n",
    "final_color={}\n",
    "for i in nodes:\n",
    "    final_color[i]=i\n",
    "#stopping criteria: no change has occured\n",
    "while end_loop==False:     \n",
    "    #partition produces 0) the partition 1) a dictionary of similarities between groups partition     \n",
    "    graph,color=Louvain.modulize(graph)\n",
    "    for i in nodes:\n",
    "        final_color[i]=color[final_color[i]]  \n",
    "\n",
    "    # if number of modules is the same then end the loop\n",
    "    if number_of_modules==len(set(color.values())):\n",
    "        end_loop=True\n",
    "    else:\n",
    "        number_of_modules=len(set(color.values()))  \n",
    "print(final_color)"
   ]
  },
  {
   "cell_type": "markdown",
   "metadata": {},
   "source": [
    "## Real networks\n",
    "\n",
    "First we need to read the files and put them in the desired format"
   ]
  },
  {
   "cell_type": "code",
   "execution_count": 241,
   "metadata": {
    "collapsed": true
   },
   "outputs": [],
   "source": [
    "import pandas as pd\n",
    "# choose a network from shark_0, parakeet_2_2, stumptailed_macaque, Howler_monkeys, Macaques_Massen\n",
    "network='stumptailed_macaque'\n",
    "df=pd.read_csv('Data/'+network+'_edgelist.csv')\n",
    "\n",
    "graph={}\n",
    "for i,row in df.iterrows():\n",
    "    graph[(row['ID1'],row['ID2'])]=row['Weight']\n",
    "    \n",
    "color=Louvain.get_colors(graph)"
   ]
  },
  {
   "cell_type": "markdown",
   "metadata": {},
   "source": [
    "Often it is better to have the result in the form of a partition"
   ]
  },
  {
   "cell_type": "code",
   "execution_count": 213,
   "metadata": {},
   "outputs": [
    {
     "data": {
      "image/png": "[encoded data removed]",
      "text/plain": [
       "<matplotlib.figure.Figure at 0x2ab44e30048>"
      ]
     },
     "metadata": {},
     "output_type": "display_data"
    }
   ],
   "source": [
    "plt.figure()\n",
    "G=nx.Graph()\n",
    "for edge in graph:\n",
    "    G.add_edge(edge[0],edge[1],weight=graph[edge])\n",
    "pos=nx.spring_layout(G)\n",
    "\n",
    "n=0\n",
    "for c in set(color.values()):\n",
    "    node_group=[node for node in color if color[node]==c]\n",
    "    nx.draw_networkx_nodes(G,pos,nodelist=node_group, node_color=color_list[n])\n",
    "    n=n+1\n",
    "    nx.draw_networkx_edges(G,pos)\n",
    "plt.show()"
   ]
  },
  {
   "cell_type": "code",
   "execution_count": 214,
   "metadata": {},
   "outputs": [
    {
     "name": "stdout",
     "output_type": "stream",
     "text": [
      "0.27721936051\n"
     ]
    }
   ],
   "source": [
    "Q=Louvain.modularity(graph,color)\n",
    "print(Q)"
   ]
  },
  {
   "cell_type": "code",
   "execution_count": null,
   "metadata": {
    "collapsed": true
   },
   "outputs": [],
   "source": []
  }
 ],
 "metadata": {
  "kernelspec": {
   "display_name": "Python 3",
   "language": "python",
   "name": "python3"
  },
  "language_info": {
   "codemirror_mode": {
    "name": "ipython",
    "version": 3
   },
   "file_extension": ".py",
   "mimetype": "text/x-python",
   "name": "python",
   "nbconvert_exporter": "python",
   "pygments_lexer": "ipython3",
   "version": "3.6.3"
  }
 },
 "nbformat": 4,
 "nbformat_minor": 2
}
