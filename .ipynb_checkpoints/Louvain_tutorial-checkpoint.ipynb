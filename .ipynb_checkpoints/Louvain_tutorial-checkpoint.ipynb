{
 "cells": [
  {
   "cell_type": "markdown",
   "metadata": {
    "collapsed": true
   },
   "source": [
    "# The Louvain algorithm for network community detection"
   ]
  },
  {
   "cell_type": "markdown",
   "metadata": {},
   "source": [
    "## Input data\n",
    "The algorithm works on any weighted-nondirected network. This data could come in the form of a graphml, csv, spreadsheet etc. Whatever the format is, there is a specific format that we need to convert it to so that the following codes know what to do with it. The format we use here is a python dictionary in which the keys are the edges and the values are the weights of those edges. For example, \n"
   ]
  },
  {
   "cell_type": "code",
   "execution_count": 74,
   "metadata": {
    "collapsed": true
   },
   "outputs": [],
   "source": [
    "graph={('a','b'):1,('a','c'):2,('b','c'):2,('c','d'):1,('d','e'):4,('e','g'):1,('f','g'):4,('f','d'):1}"
   ]
  },
  {
   "cell_type": "markdown",
   "metadata": {
    "collapsed": true
   },
   "source": [
    "describes a network of the type we want to work with. Lets take a look at what this network looks like;"
   ]
  },
  {
   "cell_type": "code",
   "execution_count": 36,
   "metadata": {},
   "outputs": [
    {
     "data": {
      "image/png": "[encoded data removed]",
      "text/plain": [
       "<matplotlib.figure.Figure at 0x2a9a1a23278>"
      ]
     },
     "metadata": {},
     "output_type": "display_data"
    }
   ],
   "source": [
    "import networkx as nx\n",
    "import matplotlib.pyplot as plt\n",
    "\n",
    "plt.figure()\n",
    "G=nx.Graph()\n",
    "for edge in graph:\n",
    "    G.add_edge(edge[0],edge[1],weight=graph[edge])\n",
    "    \n",
    "pos=nx.spring_layout(G)\n",
    "nx.draw_networkx_nodes(G,pos)\n",
    "nx.draw_networkx_edges(G,pos)\n",
    "plt.show()"
   ]
  },
  {
   "cell_type": "markdown",
   "metadata": {},
   "source": [
    "## Calculating modularity\n",
    "The Louvain algorithm maximizes modularity. If each node has a color then the modularity measures the relative likelihood that edges in the network will connect nodes of the same color. For example we can asign the following colors:"
   ]
  },
  {
   "cell_type": "code",
   "execution_count": 37,
   "metadata": {
    "collapsed": true
   },
   "outputs": [],
   "source": [
    "color= {'a': 'c0', 'b':'c1', 'c':'c2', 'd':'c1', 'e':'c1', 'f':'c0','g':'c2'} "
   ]
  },
  {
   "cell_type": "markdown",
   "metadata": {},
   "source": [
    "to get"
   ]
  },
  {
   "cell_type": "code",
   "execution_count": 38,
   "metadata": {},
   "outputs": [
    {
     "data": {
      "image/png": "[encoded data removed]",
      "text/plain": [
       "<matplotlib.figure.Figure at 0x2a9a1a39438>"
      ]
     },
     "metadata": {},
     "output_type": "display_data"
    }
   ],
   "source": [
    "plt.figure()\n",
    "\n",
    "color_list=['r','b','g','c','m','orange','yellow','k','pink']\n",
    "n=0\n",
    "for c in set(color.values()):\n",
    "    nodes=[node for node in color if color[node]==c]\n",
    "    nx.draw_networkx_nodes(G,pos,nodelist=nodes, node_color=color_list[n],alpha=0.8)\n",
    "    n=n+1\n",
    "    nx.draw_networkx_edges(G,pos)\n",
    "plt.show()"
   ]
  },
  {
   "cell_type": "markdown",
   "metadata": {},
   "source": [
    "To calculate the modularity of this coloring we use the formula\n",
    "\\begin{equation}\n",
    "Q=\\sum_{i,j} \\left(w_{i,j}-\\frac{s_{i}s_{j}}{S}\\right)\\delta(c_{i},c_{j})\n",
    "\\end{equation}\n",
    "where $s_{i}=\\sum_{j}w_{i,j}$ is the strength of the node $i$ and $S$ is the total strength of the graph $\\sum_{i}s_{i}$, $c_{i}$ is the color of $i$ and $\\delta$ is the Kroneckar $\\delta$. To calculate this we will need a few things, starting with a list of all the nodes:"
   ]
  },
  {
   "cell_type": "code",
   "execution_count": 39,
   "metadata": {},
   "outputs": [
    {
     "name": "stdout",
     "output_type": "stream",
     "text": [
      "nodes: ['a', 'b', 'c', 'd', 'e', 'f', 'g']\n"
     ]
    }
   ],
   "source": [
    "nodes=sorted(list(set([edge[0] for edge in graph]+[edge[1] for edge in graph])))\n",
    "N=len(nodes)\n",
    "print('nodes:',nodes)"
   ]
  },
  {
   "cell_type": "markdown",
   "metadata": {},
   "source": [
    "Notice that the formula calls for us to loop over every pair of nodes, regardless of whether there is an edge in the network or not. That means that we need to consider all the non-existent edges as having 0 weight"
   ]
  },
  {
   "cell_type": "code",
   "execution_count": 40,
   "metadata": {},
   "outputs": [
    {
     "name": "stdout",
     "output_type": "stream",
     "text": [
      "{('a', 'a'): 0, ('a', 'b'): 1, ('a', 'c'): 2, ('a', 'd'): 0, ('a', 'e'): 0, ('a', 'f'): 0, ('a', 'g'): 0, ('b', 'b'): 0, ('b', 'c'): 2, ('b', 'd'): 0, ('b', 'e'): 0, ('b', 'f'): 0, ('b', 'g'): 0, ('c', 'c'): 0, ('c', 'd'): 1, ('c', 'e'): 0, ('c', 'f'): 0, ('c', 'g'): 0, ('d', 'd'): 0, ('d', 'e'): 4, ('d', 'f'): 1, ('d', 'g'): 0, ('e', 'e'): 0, ('e', 'f'): 0, ('e', 'g'): 1, ('f', 'f'): 0, ('f', 'g'): 4, ('g', 'g'): 0}\n"
     ]
    }
   ],
   "source": [
    "Weight={}\n",
    "for i in nodes:\n",
    "    for j in nodes:\n",
    "        edge=tuple(sorted([i,j]))\n",
    "        if (i,j) in graph:\n",
    "            Weight[edge]=graph[(i,j)]\n",
    "        elif (j,i) in graph:\n",
    "            Weight[edge]=graph[(j,i)]\n",
    "        else:\n",
    "            Weight[edge]=0\n",
    "print(Weight)"
   ]
  },
  {
   "cell_type": "markdown",
   "metadata": {},
   "source": [
    "Notice that when we read the edge from the network we sort it. The Louvain package contains a function $\\verb|get_weights|$ that takes a graph as input, runs this last bit of code, and returns the dictionary of weights. \n",
    "\n",
    "We want to know the strength of every node"
   ]
  },
  {
   "cell_type": "code",
   "execution_count": 41,
   "metadata": {},
   "outputs": [
    {
     "name": "stdout",
     "output_type": "stream",
     "text": [
      "strength: {'a': 3, 'b': 3, 'c': 5, 'd': 6, 'e': 5, 'f': 5, 'g': 5}\n"
     ]
    }
   ],
   "source": [
    "strength={}\n",
    "for i in nodes:\n",
    "    strength[i]=sum([graph[edge] for edge in graph if edge[0]==i])+sum([graph[edge] for edge in graph if edge[1]==i])\n",
    "print('strength:',strength)"
   ]
  },
  {
   "cell_type": "markdown",
   "metadata": {},
   "source": [
    "and the total strength"
   ]
  },
  {
   "cell_type": "code",
   "execution_count": 42,
   "metadata": {},
   "outputs": [
    {
     "name": "stdout",
     "output_type": "stream",
     "text": [
      "total strength: 32\n"
     ]
    }
   ],
   "source": [
    "total_weight=sum([strength[i] for i in nodes])\n",
    "print('total strength:',total_weight)"
   ]
  },
  {
   "cell_type": "markdown",
   "metadata": {},
   "source": [
    "Now we can put it all together to find the modularity"
   ]
  },
  {
   "cell_type": "code",
   "execution_count": 43,
   "metadata": {},
   "outputs": [
    {
     "name": "stdout",
     "output_type": "stream",
     "text": [
      "Modularity of this coloring = -0.1015625\n"
     ]
    }
   ],
   "source": [
    "Q=0\n",
    "for edge in Weight:\n",
    "    i=edge[0]\n",
    "    j=edge[1]\n",
    "    if color[i]==color[j]:\n",
    "        x=Weight[edge]-(strength[i]*strength[j]/total_weight)\n",
    "        if i==j: \n",
    "            Q=Q+x/total_weight\n",
    "        else:\n",
    "            Q=Q+2*x/total_weight\n",
    "            \n",
    "print('Modularity of this coloring =',Q)"
   ]
  },
  {
   "cell_type": "markdown",
   "metadata": {},
   "source": [
    "This code is included in the Louvain module and can be accessed as follows:"
   ]
  },
  {
   "cell_type": "code",
   "execution_count": 44,
   "metadata": {},
   "outputs": [
    {
     "name": "stdout",
     "output_type": "stream",
     "text": [
      "Q = -0.1015625\n"
     ]
    }
   ],
   "source": [
    "import Louvain\n",
    "print('Q =',Louvain.modularity(Weight,color))"
   ]
  },
  {
   "cell_type": "markdown",
   "metadata": {},
   "source": [
    "## Finding an optimal coloring\n",
    "\n",
    "This is where the Louvain algorithm begins. Actually, to make things easier later on we first want to create an adjacency list for every node. We start with an empty dictionary and add each node as a neighbor of itself"
   ]
  },
  {
   "cell_type": "code",
   "execution_count": 45,
   "metadata": {},
   "outputs": [
    {
     "name": "stdout",
     "output_type": "stream",
     "text": [
      "{'a': ['c', 'b'], 'b': ['c', 'a'], 'c': ['a', 'd', 'b'], 'd': ['c', 'e', 'f'], 'e': ['d', 'g'], 'f': ['d', 'g'], 'g': ['f', 'e']}\n"
     ]
    }
   ],
   "source": [
    "neighbors={}\n",
    "for i in nodes:\n",
    "    neighbors[i]=list(set([edge[0] for edge in graph if edge[1]==i]+[edge[1] for edge in graph if edge[0]==i]))  \n",
    "\n",
    "print(neighbors)"
   ]
  },
  {
   "cell_type": "markdown",
   "metadata": {},
   "source": [
    "The procedure starts by asigning a unique color to every node. We are going to keep track of the node colors in two different ways,"
   ]
  },
  {
   "cell_type": "code",
   "execution_count": 58,
   "metadata": {},
   "outputs": [],
   "source": [
    "# color tells us the color of each node\n",
    "color={}\n",
    "for n in range(N):\n",
    "    i=nodes[n]\n",
    "    # this will be the label for the color\n",
    "    c='c'+str(n)\n",
    "    color[i]=c "
   ]
  },
  {
   "cell_type": "markdown",
   "metadata": {},
   "source": [
    "The first part of the procedure is to compute the change in modularity that occurs when the color of a node changes. For a node, $i$ that changes color from $c_{1}$ to $c_{2}$ the magnitude of this change is \n",
    "\\begin{equation}\n",
    "\\Delta Q=\\frac{2}{S}\\left(w_{i,c_{2}}-\\frac{s_{i}(s_{i}+w_{c_{2}})}{S}-w_{i,c_{1}}+\\frac{s_{i}w_{c_{1}}}{S}\\right)   \n",
    "\\end{equation}\n",
    "\n",
    "To compute this we need to know $w_{i,c_{k}}$, weight of edges of each node that link to any particular color\n",
    "for all nodes and colors."
   ]
  },
  {
   "cell_type": "code",
   "execution_count": 59,
   "metadata": {
    "collapsed": true
   },
   "outputs": [],
   "source": [
    "weight_in_color={}  \n",
    "for i in nodes:\n",
    "    for j in nodes:\n",
    "        if j in neighbors[i]:\n",
    "            weight_in_color[(j,color[i])]=Weight[tuple(sorted((i,j)))]\n",
    "        else:\n",
    "            weight_in_color[(j,color[i])]=0   "
   ]
  },
  {
   "cell_type": "markdown",
   "metadata": {},
   "source": [
    "and we need to know $w_{c_{k}}$ the total weight of edges of each color"
   ]
  },
  {
   "cell_type": "code",
   "execution_count": 60,
   "metadata": {
    "collapsed": true
   },
   "outputs": [],
   "source": [
    "total_weight_of_color={}\n",
    "for c in set(color.values()):\n",
    "    total_weight_of_color[c]=sum([strength[i] for i in nodes if color[i]==c])"
   ]
  },
  {
   "cell_type": "markdown",
   "metadata": {},
   "source": [
    "When each node is considered, the source is the color that it currently is and the target is the color that it may change to. T1 - T4 are the four terms in the equation for $\\Delta Q$."
   ]
  },
  {
   "cell_type": "code",
   "execution_count": 61,
   "metadata": {
    "collapsed": true
   },
   "outputs": [],
   "source": [
    "i='a'\n",
    "source='c0'\n",
    "target='c2'\n",
    "\n",
    "T1=weight_in_color[(i,target)]+Weight[(i,i)]\n",
    "\n",
    "T2=strength[i]*(strength[i]+total_weight_of_color[target])/total_weight\n",
    " \n",
    "T3=weight_in_color[(i,source)]    \n",
    "\n",
    "T4=strength[i]*total_weight_of_color[source]/total_weight\n",
    "\n",
    "# compute the total change if ID moved from source community to target community\n",
    "delta_Q=(T1-T2-T3+T4)*(2/total_weight)  "
   ]
  },
  {
   "cell_type": "markdown",
   "metadata": {},
   "source": [
    "Just to prove that the formula is correct we can calculate the modularity befor and after making the change"
   ]
  },
  {
   "cell_type": "code",
   "execution_count": 62,
   "metadata": {},
   "outputs": [
    {
     "name": "stdout",
     "output_type": "stream",
     "text": [
      "0.095703125\n",
      "0.095703125\n"
     ]
    }
   ],
   "source": [
    "Q_before=Louvain.modularity(Weight,color)\n",
    "# make the change\n",
    "color[i]=target\n",
    "Q_after=Louvain.modularity(Weight,color)\n",
    "print(Q_after-Q_before)\n",
    "print(delta_Q)\n",
    "\n",
    "# now reset it to how it was before so we don't mess things up!\n",
    "color[i]=source"
   ]
  },
  {
   "cell_type": "markdown",
   "metadata": {},
   "source": [
    "Now we have finally reached the fun part! The following is a loop that sequentially chooses nodes. It calculates, for every color, the change in Q that would occur if the node changed to that color, if the biggest change it finds is positive (and not tiny) then it makes that change."
   ]
  },
  {
   "cell_type": "code",
   "execution_count": 63,
   "metadata": {},
   "outputs": [
    {
     "name": "stdout",
     "output_type": "stream",
     "text": [
      "{'a': 'c2', 'b': 'c2', 'c': 'c2', 'd': 'c4', 'e': 'c4', 'f': 'c6', 'g': 'c6'}\n"
     ]
    }
   ],
   "source": [
    "# if no improvements occur in N iterations then this number reaches N and the loop ends\n",
    "unsuccessful_iterations=0\n",
    "# n is the index of the node we want to check\n",
    "n=0\n",
    "# the loop terminates when we iterate through every node and find that none of them yield an improvement\n",
    "while unsuccessful_iterations<N:\n",
    "    i=nodes[n]\n",
    "    n=(n+1) % N\n",
    "    # source is the community ID is currently in\n",
    "    source=color[i]\n",
    "    # compute the weight of edges between ID and nodes in source community (including itself)\n",
    "    T3=weight_in_color[(i,source)]    \n",
    "    # compute the expectation \n",
    "    T4=strength[i]*total_weight_of_color[source]/total_weight\n",
    "\n",
    "    best_delta=0\n",
    "    # instead of choosing all possible target colors, rule out the ones ID has no connection to\n",
    "    for target in [x for x in set(color.values()) if x!=source]:           \n",
    "        # compute the weight of edges between ID and nodes in target community (including itself)           \n",
    "        T1 =weight_in_color[(i,target)]+Weight[(i,i)]\n",
    "        # compute the expectation\n",
    "        T2 =strength[i]*(strength[i]+total_weight_of_color[target])/total_weight\n",
    "        # compute the total change if ID moved from source community to target community\n",
    "        delta_Q=(T1-T2-T3+T4)*(1/total_weight)    \n",
    "\n",
    "        # keep track of the largest\n",
    "        if delta_Q>best_delta:    \n",
    "            best_delta=delta_Q\n",
    "            best_target=target\n",
    "\n",
    "    if best_delta>0.00000001:\n",
    "\n",
    "        color[i]=best_target\n",
    "\n",
    "        # update the total_similarity of source\n",
    "        total_weight_of_color[source]=total_weight_of_color[source]-strength[i]\n",
    "        # update the total_similarity of target        \n",
    "        total_weight_of_color[best_target]=total_weight_of_color[best_target]+strength[i]\n",
    "        # update similarity to the source/target community of every node\n",
    "        for j in neighbors[i]:\n",
    "            weight_in_color[(j,source)]=weight_in_color[(j,source)]-Weight[tuple(sorted((i,j)))]\n",
    "            weight_in_color[(j,best_target)]=weight_in_color[(j,best_target)]+Weight[tuple(sorted((i,j)))]\n",
    "\n",
    "        # best delta is large so the iteration was successful. Reset the counter\n",
    "        unsuccessful_iterations=0\n",
    "    else:\n",
    "        # if no improvements occur in N iterations then this number reaches N and the loop ends\n",
    "        unsuccessful_iterations=unsuccessful_iterations+1\n",
    "        \n",
    "print(color)"
   ]
  },
  {
   "cell_type": "markdown",
   "metadata": {},
   "source": [
    "Lets plot the result to see if it worked!"
   ]
  },
  {
   "cell_type": "code",
   "execution_count": 64,
   "metadata": {},
   "outputs": [
    {
     "data": {
      "image/png": "[encoded data removed]",
      "text/plain": [
       "<matplotlib.figure.Figure at 0x2a9a1d8d550>"
      ]
     },
     "metadata": {},
     "output_type": "display_data"
    }
   ],
   "source": [
    "plt.figure()\n",
    "n=0\n",
    "for c in set(color.values()):\n",
    "    node_group=[node for node in color if color[node]==c]\n",
    "    nx.draw_networkx_nodes(G,pos,nodelist=node_group, node_color=color_list[n])\n",
    "    n=n+1\n",
    "    nx.draw_networkx_edges(G,pos)\n",
    "plt.show()"
   ]
  },
  {
   "cell_type": "markdown",
   "metadata": {},
   "source": [
    "Recomputing the modularity we have "
   ]
  },
  {
   "cell_type": "code",
   "execution_count": 65,
   "metadata": {},
   "outputs": [
    {
     "name": "stdout",
     "output_type": "stream",
     "text": [
      "Q = 0.478515625\n"
     ]
    }
   ],
   "source": [
    "print('Q =',Louvain.modularity(Weight,color))"
   ]
  },
  {
   "cell_type": "markdown",
   "metadata": {},
   "source": [
    "So that seems to have worked, however, there may still be room for improvement. The next stage of the algorithm looks to see if an improvement can be made by merging any pair of communities. \n",
    "\n",
    "## Merging communities\n",
    "We make a new network with each color as a community "
   ]
  },
  {
   "cell_type": "code",
   "execution_count": 66,
   "metadata": {},
   "outputs": [
    {
     "name": "stdout",
     "output_type": "stream",
     "text": [
      "{'a': 'c2', 'b': 'c2', 'c': 'c2', 'd': 'c4', 'e': 'c4', 'f': 'c6', 'g': 'c6'}\n",
      "{('c4', 'c4'): 4, ('c2', 'c4'): 1, ('c4', 'c6'): 2, ('c2', 'c2'): 5, ('c2', 'c6'): 0, ('c6', 'c6'): 4}\n"
     ]
    }
   ],
   "source": [
    "# start by creating a Weight dictionary where all the pairs have weight 0\n",
    "new_weight={}\n",
    "\n",
    "for c_i in set(color.values()):\n",
    "    for c_j in set(color.values()):\n",
    "        new_edge=tuple(sorted((c_i,c_j)))\n",
    "        if new_edge not in new_weight:\n",
    "            new_weight[new_edge]=0\n",
    "# for each of the old edges, add its weight to the weight of the appropriate new edge\n",
    "for edge in Weight:\n",
    "    # new-edge is the edge between two colors \n",
    "    new_edge=tuple(sorted((color[edge[0]],color[edge[1]])))\n",
    "    # once we know which new edge to add to, we can add it\n",
    "    new_weight[new_edge]=new_weight[new_edge]+Weight[edge]\n",
    "\n",
    "print(color)\n",
    "print(new_weight)"
   ]
  },
  {
   "cell_type": "markdown",
   "metadata": {},
   "source": [
    "Everything we have done up to here is combined into one function in the Louvain module. The function $\\verb|modulize|$ takes the dictionary Weight as input and gives a new graph as output. There next stage of the algorithm simply involves putting the the new network through the $\\verb|modulize|$ process repeatedly until no changes occur."
   ]
  },
  {
   "cell_type": "code",
   "execution_count": 67,
   "metadata": {},
   "outputs": [
    {
     "name": "stdout",
     "output_type": "stream",
     "text": [
      "{'a': 'c2', 'b': 'c2', 'c': 'c2', 'd': 'c4', 'e': 'c4', 'f': 'c6', 'g': 'c6'}\n",
      "{('c4', 'c4'): 4, ('c2', 'c4'): 1, ('c4', 'c6'): 2, ('c2', 'c2'): 5, ('c2', 'c6'): 0, ('c6', 'c6'): 4}\n"
     ]
    }
   ],
   "source": [
    "new_weight,color=Louvain.modulize(Weight)\n",
    "\n",
    "print(color)\n",
    "print(new_weight)"
   ]
  },
  {
   "cell_type": "markdown",
   "metadata": {},
   "source": [
    "nothing has changed so we have reached a local optimum. Notice now that the color groups are the names of colors (not nodes) so we need a way to recover the actual nodes. That means that each time we iterate we need to keep track of which nodes belong where. The following code does this"
   ]
  },
  {
   "cell_type": "code",
   "execution_count": 75,
   "metadata": {},
   "outputs": [
    {
     "name": "stdout",
     "output_type": "stream",
     "text": [
      "{'a': 'c0', 'b': 'c0', 'c': 'c0', 'd': 'c1', 'e': 'c1', 'f': 'c2', 'g': 'c2'}\n"
     ]
    }
   ],
   "source": [
    "end_loop=False\n",
    "number_of_modules=len(nodes)\n",
    "final_color={}\n",
    "for i in nodes:\n",
    "    final_color[i]=i\n",
    "#stopping criteria: no change has occured\n",
    "while end_loop==False:     \n",
    "    #partition produces 0) the partition 1) a dictionary of similarities between groups partition     \n",
    "    graph,color=Louvain.modulize(graph)\n",
    "    for i in nodes:\n",
    "        final_color[i]=color[final_color[i]]  \n",
    "\n",
    "    # if number of modules is the same then end the loop\n",
    "    if number_of_modules==len(set(color.values())):\n",
    "        end_loop=True\n",
    "    else:\n",
    "        number_of_modules=len(set(color.values()))  \n",
    "print(final_color)"
   ]
  },
  {
   "cell_type": "markdown",
   "metadata": {},
   "source": [
    "In the Louvain package, the function $\\verb|get_partition|$ does performs this action. Next we show the results on some real networks!\n",
    "\n",
    "## Real networks\n",
    "\n",
    "First we need to read the files and put them in the desired format"
   ]
  },
  {
   "cell_type": "code",
   "execution_count": 88,
   "metadata": {},
   "outputs": [],
   "source": [
    "import pandas as pd\n",
    "# choose a network from shark_0, parakeet_2_2, stumptailed_macaque, Howler_monkeys, Macaques_Massen\n",
    "network='shark_4'\n",
    "df=pd.read_csv('Data/'+network+'_edgelist.csv')\n",
    "\n",
    "graph={}\n",
    "for i,row in df.iterrows():\n",
    "    graph[(row['ID1'],row['ID2'])]=row['Weight']\n",
    "    \n",
    "color=Louvain.get_colors(graph)"
   ]
  },
  {
   "cell_type": "markdown",
   "metadata": {},
   "source": [
    "Often it is better to have the result in th for of a partition"
   ]
  },
  {
   "cell_type": "code",
   "execution_count": 89,
   "metadata": {},
   "outputs": [
    {
     "data": {
      "image/png": "[encoded data removed]",
      "text/plain": [
       "<matplotlib.figure.Figure at 0x2a9a3723358>"
      ]
     },
     "metadata": {},
     "output_type": "display_data"
    }
   ],
   "source": [
    "plt.figure()\n",
    "G=nx.Graph()\n",
    "for edge in graph:\n",
    "    G.add_edge(edge[0],edge[1],weight=graph[edge])\n",
    "pos=nx.spring_layout(G)\n",
    "\n",
    "n=0\n",
    "for c in set(color.values()):\n",
    "    node_group=[node for node in color if color[node]==c]\n",
    "    nx.draw_networkx_nodes(G,pos,nodelist=node_group, node_color=color_list[n])\n",
    "    n=n+1\n",
    "    nx.draw_networkx_edges(G,pos)\n",
    "plt.show()"
   ]
  },
  {
   "cell_type": "code",
   "execution_count": 87,
   "metadata": {},
   "outputs": [
    {
     "name": "stdout",
     "output_type": "stream",
     "text": [
      "0.4807294898049622\n"
     ]
    }
   ],
   "source": [
    "Q=Louvain.modularity(graph,color)\n",
    "print(Q)"
   ]
  },
  {
   "cell_type": "code",
   "execution_count": null,
   "metadata": {
    "collapsed": true
   },
   "outputs": [],
   "source": []
  }
 ],
 "metadata": {
  "kernelspec": {
   "display_name": "Python 3",
   "language": "python",
   "name": "python3"
  },
  "language_info": {
   "codemirror_mode": {
    "name": "ipython",
    "version": 3
   },
   "file_extension": ".py",
   "mimetype": "text/x-python",
   "name": "python",
   "nbconvert_exporter": "python",
   "pygments_lexer": "ipython3",
   "version": "3.6.3"
  }
 },
 "nbformat": 4,
 "nbformat_minor": 2
}
